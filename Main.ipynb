{
 "cells": [
  {
   "cell_type": "code",
   "execution_count": 7,
   "metadata": {},
   "outputs": [
    {
     "name": "stdout",
     "output_type": "stream",
     "text": [
      "[['Jan-2010', '867884'], ['Feb-2010', '984655'], ['Mar-2010', '322013'], ['Apr-2010', '-69417'], ['May-2010', '310503'], ['Jun-2010', '522857'], ['Jul-2010', '1033096'], ['Aug-2010', '604885'], ['Sep-2010', '-216386'], ['Oct-2010', '477532'], ['Nov-2010', '893810'], ['Dec-2010', '-80353'], ['Jan-2011', '779806'], ['Feb-2011', '-335203'], ['Mar-2011', '697845'], ['Apr-2011', '793163'], ['May-2011', '485070'], ['Jun-2011', '584122'], ['Jul-2011', '62729'], ['Aug-2011', '668179'], ['Sep-2011', '899906'], ['Oct-2011', '834719'], ['Nov-2011', '132003'], ['Dec-2011', '309978'], ['Jan-2012', '-755566'], ['Feb-2012', '1170593'], ['Mar-2012', '252788'], ['Apr-2012', '1151518'], ['May-2012', '817256'], ['Jun-2012', '570757'], ['Jul-2012', '506702'], ['Aug-2012', '-1022534'], ['Sep-2012', '475062'], ['Oct-2012', '779976'], ['Nov-2012', '144175'], ['Dec-2012', '542494'], ['Jan-2013', '359333'], ['Feb-2013', '321469'], ['Mar-2013', '67780'], ['Apr-2013', '471435'], ['May-2013', '565603'], ['Jun-2013', '872480'], ['Jul-2013', '789480'], ['Aug-2013', '999942'], ['Sep-2013', '-1196225'], ['Oct-2013', '268997'], ['Nov-2013', '-687986'], ['Dec-2013', '1150461'], ['Jan-2014', '682458'], ['Feb-2014', '617856'], ['Mar-2014', '824098'], ['Apr-2014', '581943'], ['May-2014', '132864'], ['Jun-2014', '448062'], ['Jul-2014', '689161'], ['Aug-2014', '800701'], ['Sep-2014', '1166643'], ['Oct-2014', '947333'], ['Nov-2014', '578668'], ['Dec-2014', '988505'], ['Jan-2015', '1139715'], ['Feb-2015', '1029471'], ['Mar-2015', '687533'], ['Apr-2015', '-524626'], ['May-2015', '158620'], ['Jun-2015', '87795'], ['Jul-2015', '423389'], ['Aug-2015', '840723'], ['Sep-2015', '568529'], ['Oct-2015', '332067'], ['Nov-2015', '989499'], ['Dec-2015', '778237'], ['Jan-2016', '650000'], ['Feb-2016', '-1100387'], ['Mar-2016', '-174946'], ['Apr-2016', '757143'], ['May-2016', '445709'], ['Jun-2016', '712961'], ['Jul-2016', '-1163797'], ['Aug-2016', '569899'], ['Sep-2016', '768450'], ['Oct-2016', '102685'], ['Nov-2016', '795914'], ['Dec-2016', '60988'], ['Jan-2017', '138230'], ['Feb-2017', '671099']]\n"
     ]
    }
   ],
   "source": [
    "import csv \n",
    "budget = []\n",
    "with open(\"Resources/budget_data.csv\") as budget_data:\n",
    "    csvreader = csv.reader(budget_data)\n",
    "    csvreader.__next__()\n",
    "    for row in csvreader:\n",
    "        budget.append(row)\n",
    "print(budget)"
   ]
  },
  {
   "cell_type": "code",
   "execution_count": 44,
   "metadata": {},
   "outputs": [
    {
     "name": "stdout",
     "output_type": "stream",
     "text": [
      "Financial Analysis\n",
      "------------------------------\n",
      "Total Month: 86\n",
      "Total: $38382578\n",
      "Average Change: $-2315.12\n",
      "Greatest Increase in Profits: Feb-2012 ($1926159)\n",
      "Greatest Decrease in Profits: Sep-2013 ($-2196167)\n"
     ]
    }
   ],
   "source": [
    "print(\"Financial Analysis\")\n",
    "print(\"------------------------------\")\n",
    "\n",
    "total_month = len(budget)\n",
    "print(f\"Total Month: {total_month}\") \n",
    "\n",
    "total = 0\n",
    "for row in budget:\n",
    "    total += int(row[1])\n",
    "print(f\"Total: ${total}\")\n",
    "    \n",
    "change = []\n",
    "prev = int(budget[0][1])\n",
    "for row in budget[1:]:\n",
    "    curr = int(row[1])\n",
    "    change.append(curr-prev)\n",
    "    prev = curr\n",
    "avg_change = round(sum(change)/len(change), 2)\n",
    "print(f\"Average Change: ${avg_change}\")\n",
    "\n",
    "import numpy as np \n",
    "greatest_date = budget[np.argmax(change)+1][0]\n",
    "greatest_change = max(change)\n",
    "print(f\"Greatest Increase in Profits: {greatest_date} (${greatest_change})\")\n",
    "\n",
    "greatest_worstdate = budget[np.argmin(change)+1][0]\n",
    "greatest_dec = min(change)\n",
    "print(f\"Greatest Decrease in Profits: {greatest_worstdate} (${greatest_dec})\")"
   ]
  },
  {
   "cell_type": "code",
   "execution_count": null,
   "metadata": {},
   "outputs": [],
   "source": []
  },
  {
   "cell_type": "code",
   "execution_count": 36,
   "metadata": {},
   "outputs": [
    {
     "ename": "FileNotFoundError",
     "evalue": "[Errno 2] No such file or directory: 'Resources/sales_data.csv'",
     "output_type": "error",
     "traceback": [
      "\u001b[1;31m---------------------------------------------------------------------------\u001b[0m",
      "\u001b[1;31mFileNotFoundError\u001b[0m                         Traceback (most recent call last)",
      "\u001b[1;32m<ipython-input-36-5a56d74496b8>\u001b[0m in \u001b[0;36m<module>\u001b[1;34m\u001b[0m\n\u001b[0;32m      1\u001b[0m \u001b[0msales\u001b[0m \u001b[1;33m=\u001b[0m \u001b[1;33m[\u001b[0m\u001b[1;33m]\u001b[0m\u001b[1;33m\u001b[0m\u001b[1;33m\u001b[0m\u001b[0m\n\u001b[1;32m----> 2\u001b[1;33m \u001b[1;32mwith\u001b[0m \u001b[0mopen\u001b[0m \u001b[1;33m(\u001b[0m\u001b[1;34m\"Resources/sales_data.csv\"\u001b[0m\u001b[1;33m)\u001b[0m \u001b[1;32mas\u001b[0m \u001b[0msales_data\u001b[0m\u001b[1;33m:\u001b[0m\u001b[1;33m\u001b[0m\u001b[1;33m\u001b[0m\u001b[0m\n\u001b[0m\u001b[0;32m      3\u001b[0m     \u001b[0mcsvreader\u001b[0m \u001b[1;33m=\u001b[0m \u001b[0mcsv\u001b[0m\u001b[1;33m.\u001b[0m\u001b[0mreader\u001b[0m\u001b[1;33m(\u001b[0m\u001b[0msales_data\u001b[0m\u001b[1;33m)\u001b[0m\u001b[1;33m\u001b[0m\u001b[1;33m\u001b[0m\u001b[0m\n\u001b[0;32m      4\u001b[0m     \u001b[0mcsvreader\u001b[0m\u001b[1;33m.\u001b[0m\u001b[0m__next__\u001b[0m\u001b[1;33m(\u001b[0m\u001b[1;33m)\u001b[0m\u001b[1;33m\u001b[0m\u001b[1;33m\u001b[0m\u001b[0m\n\u001b[0;32m      5\u001b[0m     \u001b[1;32mfor\u001b[0m \u001b[0mrow\u001b[0m \u001b[1;32min\u001b[0m \u001b[0mcsvreader\u001b[0m\u001b[1;33m:\u001b[0m\u001b[1;33m\u001b[0m\u001b[1;33m\u001b[0m\u001b[0m\n",
      "\u001b[1;31mFileNotFoundError\u001b[0m: [Errno 2] No such file or directory: 'Resources/sales_data.csv'"
     ]
    }
   ],
   "source": [
    "sales = []\n",
    "with open (\"Resources/sales_data.csv\") as sales_data:\n",
    "    csvreader = csv.reader(sales_data)\n",
    "    csvreader.__next__()\n",
    "    for row in csvreader:\n",
    "        sales.append(row)\n",
    "       "
   ]
  },
  {
   "cell_type": "code",
   "execution_count": null,
   "metadata": {},
   "outputs": [],
   "source": [
    "report {}"
   ]
  }
 ],
 "metadata": {
  "kernelspec": {
   "display_name": "Python 3",
   "language": "python",
   "name": "python3"
  },
  "language_info": {
   "codemirror_mode": {
    "name": "ipython",
    "version": 3
   },
   "file_extension": ".py",
   "mimetype": "text/x-python",
   "name": "python",
   "nbconvert_exporter": "python",
   "pygments_lexer": "ipython3",
   "version": "3.8.5"
  }
 },
 "nbformat": 4,
 "nbformat_minor": 4
}
